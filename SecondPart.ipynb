{
  "nbformat": 4,
  "nbformat_minor": 0,
  "metadata": {
    "colab": {
      "provenance": [],
      "authorship_tag": "ABX9TyMdRen3jgLEB78lPLksiDjf",
      "include_colab_link": true
    },
    "kernelspec": {
      "name": "python3",
      "display_name": "Python 3"
    },
    "language_info": {
      "name": "python"
    }
  },
  "cells": [
    {
      "cell_type": "markdown",
      "metadata": {
        "id": "view-in-github",
        "colab_type": "text"
      },
      "source": [
        "<a href=\"https://colab.research.google.com/github/Thomasvidalenc/DMML2022_IWC/blob/main/SecondPart.ipynb\" target=\"_parent\"><img src=\"https://colab.research.google.com/assets/colab-badge.svg\" alt=\"Open In Colab\"/></a>"
      ]
    },
    {
      "cell_type": "markdown",
      "source": [
        "## Welcolme to the second part of our project where we will try a SVC classifier."
      ],
      "metadata": {
        "id": "B6JSt8TGfL8G"
      }
    },
    {
      "cell_type": "markdown",
      "source": [
        "SVC classifier implements the Support Vector Machine (SVM) algorithm for classification tasks. We want to see if this model will be better than those in the first part"
      ],
      "metadata": {
        "id": "Bcs9hJ_Ef6s6"
      }
    },
    {
      "cell_type": "markdown",
      "source": [
        "As always, we have to install and prepare the environment of work"
      ],
      "metadata": {
        "id": "xSD6bKCIgBMM"
      }
    },
    {
      "cell_type": "code",
      "execution_count": 1,
      "metadata": {
        "colab": {
          "base_uri": "https://localhost:8080/"
        },
        "id": "9mo_7bnQDASX",
        "outputId": "030a8adf-3f94-4c37-a9a3-0c453ab1878a"
      },
      "outputs": [
        {
          "output_type": "stream",
          "name": "stdout",
          "text": [
            "Mounted at /content/drive\n"
          ]
        }
      ],
      "source": [
        "from google.colab import drive\n",
        "drive.mount('/content/drive', force_remount=True)"
      ]
    },
    {
      "cell_type": "code",
      "source": [
        "%%capture\n",
        "! pip install kaggle"
      ],
      "metadata": {
        "id": "tO5e9DvUGrtl"
      },
      "execution_count": 2,
      "outputs": []
    },
    {
      "cell_type": "code",
      "source": [
        "!mkdir ~/.kaggle"
      ],
      "metadata": {
        "id": "1Ax_26-PGtve"
      },
      "execution_count": 3,
      "outputs": []
    },
    {
      "cell_type": "code",
      "source": [
        "!cp /content/drive/MyDrive/kaggle.json ~/.kaggle/kaggle.json"
      ],
      "metadata": {
        "id": "dHZ3e2JvGvJu"
      },
      "execution_count": 4,
      "outputs": []
    },
    {
      "cell_type": "code",
      "source": [
        "!mkdir data"
      ],
      "metadata": {
        "id": "6qDf7QKzG2AB"
      },
      "execution_count": 5,
      "outputs": []
    },
    {
      "cell_type": "code",
      "source": [
        "%%capture\n",
        "! kaggle competitions download -c detecting-french-texts-difficulty-level-2022"
      ],
      "metadata": {
        "id": "hwrrjp2WG5DE"
      },
      "execution_count": 6,
      "outputs": []
    },
    {
      "cell_type": "code",
      "source": [
        "%%capture\n",
        "!unzip \"detecting-french-texts-difficulty-level-2022.zip\" -d data"
      ],
      "metadata": {
        "id": "AI1AMDzhG66Z"
      },
      "execution_count": 7,
      "outputs": []
    },
    {
      "cell_type": "code",
      "source": [
        "%%capture\n",
        "!pip install -U spacy\n",
        "# Download the French language model\n",
        "!python -m spacy download fr"
      ],
      "metadata": {
        "id": "_Yj_8qmDXCWb"
      },
      "execution_count": 9,
      "outputs": []
    },
    {
      "cell_type": "code",
      "source": [
        "sp = spacy.load('fr_core_news_sm')"
      ],
      "metadata": {
        "id": "62dDAUS2XDHu"
      },
      "execution_count": 10,
      "outputs": []
    },
    {
      "cell_type": "code",
      "source": [
        "import numpy as np\n",
        "import matplotlib.pyplot as plt\n",
        "import pandas as pd \n",
        "from sklearn.model_selection import train_test_split\n",
        "from sklearn.metrics import confusion_matrix, accuracy_score, precision_score, recall_score, f1_score\n",
        "import spacy\n",
        "from spacy import displacy\n",
        "from sklearn.feature_extraction.text import  TfidfVectorizer\n",
        "from sklearn.pipeline import Pipeline\n",
        "from sklearn.base import TransformerMixin\n",
        "from sklearn import svm\n",
        "import string\n",
        "from spacy.lang.en.stop_words import STOP_WORDS\n",
        "from spacy.lang.fr import French\n",
        "from sklearn.metrics import confusion_matrix, accuracy_score, precision_score, recall_score, f1_score,classification_report\n",
        "from sklearn.preprocessing import LabelEncoder, OrdinalEncoder\n",
        "import seaborn as sns\n",
        "from fonctionutile import *"
      ],
      "metadata": {
        "id": "5UBBVHtdLoiS"
      },
      "execution_count": 11,
      "outputs": []
    },
    {
      "cell_type": "code",
      "source": [
        "df_training = pd.read_csv('/content/data/training_data.csv')\n",
        "df_test = pd.read_csv('/content/data/unlabelled_test_data.csv')\n",
        "df_sample = pd.read_csv('/content/data/sample_submission.csv')"
      ],
      "metadata": {
        "id": "eUSnIak6G9rM"
      },
      "execution_count": 12,
      "outputs": []
    },
    {
      "cell_type": "markdown",
      "source": [
        "We can explore our data to see if it exists problem in it"
      ],
      "metadata": {
        "id": "PXQWwNmYb730"
      }
    },
    {
      "cell_type": "code",
      "source": [
        "df_training.isnull().sum()"
      ],
      "metadata": {
        "colab": {
          "base_uri": "https://localhost:8080/"
        },
        "id": "bbZ70mw5Jhiu",
        "outputId": "263c236c-5c1f-408a-c2e9-cfeed68a0c5f"
      },
      "execution_count": 14,
      "outputs": [
        {
          "output_type": "execute_result",
          "data": {
            "text/plain": [
              "id            0\n",
              "sentence      0\n",
              "difficulty    0\n",
              "dtype: int64"
            ]
          },
          "metadata": {},
          "execution_count": 14
        }
      ]
    },
    {
      "cell_type": "code",
      "source": [
        "df_training['difficulty'].value_counts().plot(kind = 'bar')"
      ],
      "metadata": {
        "colab": {
          "base_uri": "https://localhost:8080/",
          "height": 286
        },
        "id": "xzVmYPIwJeJ4",
        "outputId": "3d743cdb-52ef-4bd6-bfd3-afb4f177a1de"
      },
      "execution_count": 15,
      "outputs": [
        {
          "output_type": "execute_result",
          "data": {
            "text/plain": [
              "<matplotlib.axes._subplots.AxesSubplot at 0x7efc68fe8bb0>"
            ]
          },
          "metadata": {},
          "execution_count": 15
        },
        {
          "output_type": "display_data",
          "data": {
            "text/plain": [
              "<Figure size 432x288 with 1 Axes>"
            ],
            "image/png": "[encoded data removed]"
          },
          "metadata": {}
        }
      ]
    },
    {
      "cell_type": "markdown",
      "source": [
        "We can see with the barplot that we have a correct diversity and we reduce thanks to that some bias"
      ],
      "metadata": {
        "id": "1-nWo_S0cJmK"
      }
    },
    {
      "cell_type": "code",
      "source": [
        "df_training.info()"
      ],
      "metadata": {
        "colab": {
          "base_uri": "https://localhost:8080/"
        },
        "id": "gPieH4l6cib3",
        "outputId": "3cf4a158-aae8-4eb7-9eb1-e4259221ed8f"
      },
      "execution_count": 34,
      "outputs": [
        {
          "output_type": "stream",
          "name": "stdout",
          "text": [
            "<class 'pandas.core.frame.DataFrame'>\n",
            "RangeIndex: 4800 entries, 0 to 4799\n",
            "Data columns (total 3 columns):\n",
            " #   Column      Non-Null Count  Dtype \n",
            "---  ------      --------------  ----- \n",
            " 0   sentence    4800 non-null   string\n",
            " 1   difficulty  4800 non-null   object\n",
            " 2   label       4800 non-null   int64 \n",
            "dtypes: int64(1), object(1), string(1)\n",
            "memory usage: 112.6+ KB\n"
          ]
        }
      ]
    },
    {
      "cell_type": "markdown",
      "source": [
        "A sentence must be a string"
      ],
      "metadata": {
        "id": "K2OJN8FycmK2"
      }
    },
    {
      "cell_type": "code",
      "source": [
        "df_training['sentence'] = df_training['sentence'].astype('string')"
      ],
      "metadata": {
        "id": "iJ4X8GVWckf4"
      },
      "execution_count": null,
      "outputs": []
    },
    {
      "cell_type": "markdown",
      "source": [
        "Now, we will create a new column 'label' that will contains the encoded values from the column difficulty."
      ],
      "metadata": {
        "id": "qyuxPt3lcePN"
      }
    },
    {
      "cell_type": "code",
      "source": [
        "df_training['label'] = [0 if x == 'A1'\n",
        "                   else 1 if x == 'A2'\n",
        "                   else 2 if x == 'B1'\n",
        "                   else 3 if x == 'B2'\n",
        "                   else 4 if x == 'C1'\n",
        "                   else 5\n",
        "                   for x in df_training.difficulty]"
      ],
      "metadata": {
        "id": "1hG4wmkYJ2_5"
      },
      "execution_count": 35,
      "outputs": []
    },
    {
      "cell_type": "code",
      "source": [
        "oe=OrdinalEncoder()\n",
        "\n",
        "# set the order of your categories\n",
        "oe.set_params(categories= [['0', '1', '2','3','4','5']])\n",
        "\n",
        "# fit-transform a dataframe of the categorical age variable\n",
        "df_training['label']= oe.fit_transform(df_training[['label']])\n",
        "\n",
        "# double check your encoder used the categories in the right order\n",
        "oe.categories_"
      ],
      "metadata": {
        "colab": {
          "base_uri": "https://localhost:8080/"
        },
        "id": "HkpUNF6MJ7sF",
        "outputId": "60ae3b6d-5452-441b-f8a1-0d1a48c16149"
      },
      "execution_count": 36,
      "outputs": [
        {
          "output_type": "execute_result",
          "data": {
            "text/plain": [
              "[array([0, 1, 2, 3, 4, 5])]"
            ]
          },
          "metadata": {},
          "execution_count": 36
        }
      ]
    },
    {
      "cell_type": "markdown",
      "source": [
        "Finally, we transform our new column as integer we drop the column 'id' because we will not need it"
      ],
      "metadata": {
        "id": "-r9WXaxMdBBC"
      }
    },
    {
      "cell_type": "code",
      "source": [
        "df_training['label'] = df_training['label'].astype(int)\n",
        "df_training = df_training.drop(['id'], axis = 1)"
      ],
      "metadata": {
        "id": "ZRhk9nwZJ_0p"
      },
      "execution_count": 19,
      "outputs": []
    },
    {
      "cell_type": "markdown",
      "source": [
        "Let's take a look to our new training Dataframe"
      ],
      "metadata": {
        "id": "V8HYlGkndUge"
      }
    },
    {
      "cell_type": "code",
      "source": [
        "df_training"
      ],
      "metadata": {
        "colab": {
          "base_uri": "https://localhost:8080/",
          "height": 419
        },
        "id": "MarE4JrBhdRE",
        "outputId": "5f7836c8-d4ec-4ba8-c9c1-73f0c109f1a6"
      },
      "execution_count": 39,
      "outputs": [
        {
          "output_type": "execute_result",
          "data": {
            "text/plain": [
              "                                               sentence difficulty  label\n",
              "0     Les coûts kilométriques réels peuvent diverger...         C1    4.0\n",
              "1     Le bleu, c'est ma couleur préférée mais je n'a...         A1    0.0\n",
              "2     Le test de niveau en français est sur le site ...         A1    0.0\n",
              "3              Est-ce que ton mari est aussi de Boston?         A1    0.0\n",
              "4     Dans les écoles de commerce, dans les couloirs...         B1    2.0\n",
              "...                                                 ...        ...    ...\n",
              "4795  C'est pourquoi, il décida de remplacer les hab...         B2    3.0\n",
              "4796  Il avait une de ces pâleurs splendides qui don...         C1    4.0\n",
              "4797  Et le premier samedi de chaque mois, venez ren...         A2    1.0\n",
              "4798  Les coûts liés à la journalisation n'étant pas...         C2    5.0\n",
              "4799  Sur le sable, la mer haletait de toute la resp...         C2    5.0\n",
              "\n",
              "[4800 rows x 3 columns]"
            ],
            "text/html": [
              "\n",
              "  <div id=\"df-83aaf4ad-977a-44aa-b922-2f90eb2ace47\">\n",
              "    <div class=\"colab-df-container\">\n",
              "      <div>\n",
              "<style scoped>\n",
              "    .dataframe tbody tr th:only-of-type {\n",
              "        vertical-align: middle;\n",
              "    }\n",
              "\n",
              "    .dataframe tbody tr th {\n",
              "        vertical-align: top;\n",
              "    }\n",
              "\n",
              "    .dataframe thead th {\n",
              "        text-align: right;\n",
              "    }\n",
              "</style>\n",
              "<table border=\"1\" class=\"dataframe\">\n",
              "  <thead>\n",
              "    <tr style=\"text-align: right;\">\n",
              "      <th></th>\n",
              "      <th>sentence</th>\n",
              "      <th>difficulty</th>\n",
              "      <th>label</th>\n",
              "    </tr>\n",
              "  </thead>\n",
              "  <tbody>\n",
              "    <tr>\n",
              "      <th>0</th>\n",
              "      <td>Les coûts kilométriques réels peuvent diverger...</td>\n",
              "      <td>C1</td>\n",
              "      <td>4.0</td>\n",
              "    </tr>\n",
              "    <tr>\n",
              "      <th>1</th>\n",
              "      <td>Le bleu, c'est ma couleur préférée mais je n'a...</td>\n",
              "      <td>A1</td>\n",
              "      <td>0.0</td>\n",
              "    </tr>\n",
              "    <tr>\n",
              "      <th>2</th>\n",
              "      <td>Le test de niveau en français est sur le site ...</td>\n",
              "      <td>A1</td>\n",
              "      <td>0.0</td>\n",
              "    </tr>\n",
              "    <tr>\n",
              "      <th>3</th>\n",
              "      <td>Est-ce que ton mari est aussi de Boston?</td>\n",
              "      <td>A1</td>\n",
              "      <td>0.0</td>\n",
              "    </tr>\n",
              "    <tr>\n",
              "      <th>4</th>\n",
              "      <td>Dans les écoles de commerce, dans les couloirs...</td>\n",
              "      <td>B1</td>\n",
              "      <td>2.0</td>\n",
              "    </tr>\n",
              "    <tr>\n",
              "      <th>...</th>\n",
              "      <td>...</td>\n",
              "      <td>...</td>\n",
              "      <td>...</td>\n",
              "    </tr>\n",
              "    <tr>\n",
              "      <th>4795</th>\n",
              "      <td>C'est pourquoi, il décida de remplacer les hab...</td>\n",
              "      <td>B2</td>\n",
              "      <td>3.0</td>\n",
              "    </tr>\n",
              "    <tr>\n",
              "      <th>4796</th>\n",
              "      <td>Il avait une de ces pâleurs splendides qui don...</td>\n",
              "      <td>C1</td>\n",
              "      <td>4.0</td>\n",
              "    </tr>\n",
              "    <tr>\n",
              "      <th>4797</th>\n",
              "      <td>Et le premier samedi de chaque mois, venez ren...</td>\n",
              "      <td>A2</td>\n",
              "      <td>1.0</td>\n",
              "    </tr>\n",
              "    <tr>\n",
              "      <th>4798</th>\n",
              "      <td>Les coûts liés à la journalisation n'étant pas...</td>\n",
              "      <td>C2</td>\n",
              "      <td>5.0</td>\n",
              "    </tr>\n",
              "    <tr>\n",
              "      <th>4799</th>\n",
              "      <td>Sur le sable, la mer haletait de toute la resp...</td>\n",
              "      <td>C2</td>\n",
              "      <td>5.0</td>\n",
              "    </tr>\n",
              "  </tbody>\n",
              "</table>\n",
              "<p>4800 rows × 3 columns</p>\n",
              "</div>\n",
              "      <button class=\"colab-df-convert\" onclick=\"convertToInteractive('df-83aaf4ad-977a-44aa-b922-2f90eb2ace47')\"\n",
              "              title=\"Convert this dataframe to an interactive table.\"\n",
              "              style=\"display:none;\">\n",
              "        \n",
              "  <svg xmlns=\"http://www.w3.org/2000/svg\" height=\"24px\"viewBox=\"0 0 24 24\"\n",
              "       width=\"24px\">\n",
              "    <path d=\"M0 0h24v24H0V0z\" fill=\"none\"/>\n",
              "    <path d=\"M18.56 5.44l.94 2.06.94-2.06 2.06-.94-2.06-.94-.94-2.06-.94 2.06-2.06.94zm-11 1L8.5 8.5l.94-2.06 2.06-.94-2.06-.94L8.5 2.5l-.94 2.06-2.06.94zm10 10l.94 2.06.94-2.06 2.06-.94-2.06-.94-.94-2.06-.94 2.06-2.06.94z\"/><path d=\"M17.41 7.96l-1.37-1.37c-.4-.4-.92-.59-1.43-.59-.52 0-1.04.2-1.43.59L10.3 9.45l-7.72 7.72c-.78.78-.78 2.05 0 2.83L4 21.41c.39.39.9.59 1.41.59.51 0 1.02-.2 1.41-.59l7.78-7.78 2.81-2.81c.8-.78.8-2.07 0-2.86zM5.41 20L4 18.59l7.72-7.72 1.47 1.35L5.41 20z\"/>\n",
              "  </svg>\n",
              "      </button>\n",
              "      \n",
              "  <style>\n",
              "    .colab-df-container {\n",
              "      display:flex;\n",
              "      flex-wrap:wrap;\n",
              "      gap: 12px;\n",
              "    }\n",
              "\n",
              "    .colab-df-convert {\n",
              "      background-color: #E8F0FE;\n",
              "      border: none;\n",
              "      border-radius: 50%;\n",
              "      cursor: pointer;\n",
              "      display: none;\n",
              "      fill: #1967D2;\n",
              "      height: 32px;\n",
              "      padding: 0 0 0 0;\n",
              "      width: 32px;\n",
              "    }\n",
              "\n",
              "    .colab-df-convert:hover {\n",
              "      background-color: #E2EBFA;\n",
              "      box-shadow: 0px 1px 2px rgba(60, 64, 67, 0.3), 0px 1px 3px 1px rgba(60, 64, 67, 0.15);\n",
              "      fill: #174EA6;\n",
              "    }\n",
              "\n",
              "    [theme=dark] .colab-df-convert {\n",
              "      background-color: #3B4455;\n",
              "      fill: #D2E3FC;\n",
              "    }\n",
              "\n",
              "    [theme=dark] .colab-df-convert:hover {\n",
              "      background-color: #434B5C;\n",
              "      box-shadow: 0px 1px 3px 1px rgba(0, 0, 0, 0.15);\n",
              "      filter: drop-shadow(0px 1px 2px rgba(0, 0, 0, 0.3));\n",
              "      fill: #FFFFFF;\n",
              "    }\n",
              "  </style>\n",
              "\n",
              "      <script>\n",
              "        const buttonEl =\n",
              "          document.querySelector('#df-83aaf4ad-977a-44aa-b922-2f90eb2ace47 button.colab-df-convert');\n",
              "        buttonEl.style.display =\n",
              "          google.colab.kernel.accessAllowed ? 'block' : 'none';\n",
              "\n",
              "        async function convertToInteractive(key) {\n",
              "          const element = document.querySelector('#df-83aaf4ad-977a-44aa-b922-2f90eb2ace47');\n",
              "          const dataTable =\n",
              "            await google.colab.kernel.invokeFunction('convertToInteractive',\n",
              "                                                     [key], {});\n",
              "          if (!dataTable) return;\n",
              "\n",
              "          const docLinkHtml = 'Like what you see? Visit the ' +\n",
              "            '<a target=\"_blank\" href=https://colab.research.google.com/notebooks/data_table.ipynb>data table notebook</a>'\n",
              "            + ' to learn more about interactive tables.';\n",
              "          element.innerHTML = '';\n",
              "          dataTable['output_type'] = 'display_data';\n",
              "          await google.colab.output.renderOutput(dataTable, element);\n",
              "          const docLink = document.createElement('div');\n",
              "          docLink.innerHTML = docLinkHtml;\n",
              "          element.appendChild(docLink);\n",
              "        }\n",
              "      </script>\n",
              "    </div>\n",
              "  </div>\n",
              "  "
            ]
          },
          "metadata": {},
          "execution_count": 39
        }
      ]
    },
    {
      "cell_type": "markdown",
      "source": [
        "We can define our new x and y"
      ],
      "metadata": {
        "id": "_az0UI9ydcm-"
      }
    },
    {
      "cell_type": "code",
      "source": [
        "X = df_training['sentence']\n",
        "y = df_training['label']"
      ],
      "metadata": {
        "id": "7CJv-F4HOyjM"
      },
      "execution_count": 21,
      "outputs": []
    },
    {
      "cell_type": "markdown",
      "source": [
        "We set 80% of train data and let 20% for the test set"
      ],
      "metadata": {
        "id": "uaK8fNK_dhpY"
      }
    },
    {
      "cell_type": "code",
      "source": [
        "X_train, X_test, y_train, y_test = train_test_split(X, y, random_state=42, test_size=0.2)"
      ],
      "metadata": {
        "id": "2ug_8cyBKKG3"
      },
      "execution_count": 22,
      "outputs": []
    },
    {
      "cell_type": "markdown",
      "source": [
        "#Try to construct a good classifier SVC()"
      ],
      "metadata": {
        "id": "HXZudPTrdpoa"
      }
    },
    {
      "cell_type": "markdown",
      "source": [
        "we will use a TfidfVectorizer to convert the sentences into numerical feature vectors. We try to find the best combinaison of parameter for the vectorizer."
      ],
      "metadata": {
        "id": "tpF_Hjo4eAHY"
      }
    },
    {
      "cell_type": "markdown",
      "source": [
        "We are "
      ],
      "metadata": {
        "id": "0n78epCWd3he"
      }
    },
    {
      "cell_type": "code",
      "source": [
        "result = []\n",
        "for config in configs:\n",
        "\n",
        "    # Redefine vectorizer\n",
        "    tfidf_vector = TfidfVectorizer(tokenizer=spacy_tokenizer, \n",
        "                                   ngram_range=config[0],\n",
        "                                   min_df=config[1], max_df=config[2], analyzer=config[3])\n",
        "\n",
        "    # Define classifier\n",
        "    svc = svm.SVC()\n",
        "\n",
        "    # Create pipeline\n",
        "    pipe = Pipeline([('vectorizer', tfidf_vector),\n",
        "                 ('classifier', svc)])\n",
        "\n",
        "    # Fit model on training set\n",
        "    pipe.fit(X_train, y_train)\n",
        "\n",
        "    # Predictions\n",
        "    y_pred = pipe.predict(X_test)\n",
        "\n",
        "    # Print accuracy on test set\n",
        "    print(\"CONFIG: \", config)\n",
        "    print(\"Accuracy \", accuracy_score(y_test, y_pred))\n",
        "    print(\"-----------------------\")\n",
        "\n",
        "    # Append to result\n",
        "    result.append([config, accuracy_score(y_test, y_pred)])"
      ],
      "metadata": {
        "colab": {
          "base_uri": "https://localhost:8080/"
        },
        "id": "S7IcstfkKeyW",
        "outputId": "1648efcf-1737-464b-90da-b978798c811f"
      },
      "execution_count": 23,
      "outputs": [
        {
          "output_type": "stream",
          "name": "stdout",
          "text": [
            "CONFIG:  [(1, 1), 1, 1.0, 'word']\n",
            "Accuracy  0.41041666666666665\n",
            "-----------------------\n",
            "CONFIG:  [(1, 1), 1, 1.0, 'char']\n",
            "Accuracy  0.4239583333333333\n",
            "-----------------------\n",
            "CONFIG:  [(1, 2), 1, 1.0, 'word']\n",
            "Accuracy  0.4114583333333333\n",
            "-----------------------\n",
            "CONFIG:  [(1, 2), 1, 1.0, 'char']\n",
            "Accuracy  0.48020833333333335\n",
            "-----------------------\n",
            "CONFIG:  [(1, 3), 1, 1.0, 'word']\n",
            "Accuracy  0.39479166666666665\n",
            "-----------------------\n",
            "CONFIG:  [(1, 3), 1, 1.0, 'char']\n",
            "Accuracy  0.490625\n",
            "-----------------------\n",
            "CONFIG:  [(2, 2), 1, 1.0, 'word']\n",
            "Accuracy  0.26458333333333334\n",
            "-----------------------\n",
            "CONFIG:  [(2, 2), 1, 1.0, 'char']\n",
            "Accuracy  0.4666666666666667\n",
            "-----------------------\n",
            "CONFIG:  [(2, 3), 1, 1.0, 'word']\n",
            "Accuracy  0.24791666666666667\n",
            "-----------------------\n",
            "CONFIG:  [(2, 3), 1, 1.0, 'char']\n",
            "Accuracy  0.5010416666666667\n",
            "-----------------------\n",
            "CONFIG:  [(3, 3), 1, 1.0, 'word']\n",
            "Accuracy  0.2\n",
            "-----------------------\n",
            "CONFIG:  [(3, 3), 1, 1.0, 'char']\n",
            "Accuracy  0.496875\n",
            "-----------------------\n"
          ]
        }
      ]
    },
    {
      "cell_type": "markdown",
      "source": [
        "we can see above that the best combinaison is the following CONFIG:  [(2, 3), 1, 1.0, 'char']"
      ],
      "metadata": {
        "id": "CY4XjD4yek-m"
      }
    },
    {
      "cell_type": "markdown",
      "source": [
        "\n",
        "\n",
        "\n"
      ],
      "metadata": {
        "id": "Oe4xgppMewC4"
      }
    },
    {
      "cell_type": "markdown",
      "source": [
        "Let's take a more precise look to this possibility"
      ],
      "metadata": {
        "id": "KkHT1NtOezo-"
      }
    },
    {
      "cell_type": "code",
      "source": [
        "tfid = TfidfVectorizer(tokenizer=spacy_tokenizer, ngram_range=(2,3), min_df=1, max_df=1.0, analyzer='char')"
      ],
      "metadata": {
        "id": "UFrnILhGKn1L"
      },
      "execution_count": 24,
      "outputs": []
    },
    {
      "cell_type": "code",
      "source": [
        "svc = svm.SVC()\n",
        "pipe_svc = Pipeline([('vectorizer', tfid),\n",
        "                 ('classifier', svc)])\n",
        "pipe_svc.fit(X_train, y_train)"
      ],
      "metadata": {
        "colab": {
          "base_uri": "https://localhost:8080/"
        },
        "id": "0EDw6cABKqWF",
        "outputId": "b9305529-0e5b-4903-894b-85fdbbca1120"
      },
      "execution_count": 27,
      "outputs": [
        {
          "output_type": "execute_result",
          "data": {
            "text/plain": [
              "Pipeline(steps=[('vectorizer',\n",
              "                 TfidfVectorizer(analyzer='char', ngram_range=(2, 3),\n",
              "                                 tokenizer=<function spacy_tokenizer at 0x7efc695f3af0>)),\n",
              "                ('classifier', SVC())])"
            ]
          },
          "metadata": {},
          "execution_count": 27
        }
      ]
    },
    {
      "cell_type": "markdown",
      "source": [
        "Show the accuracy, precision, recall and F1 score on the test set."
      ],
      "metadata": {
        "id": "gHe_sdU6e60h"
      }
    },
    {
      "cell_type": "code",
      "source": [
        "prediction = Prediction(pipe_svc, X_test)\n",
        "Evaluate(y_test, prediction)"
      ],
      "metadata": {
        "colab": {
          "base_uri": "https://localhost:8080/"
        },
        "id": "Gd5kPZxsZYxV",
        "outputId": "105d3603-678a-42d9-bace-f8c32f162753"
      },
      "execution_count": 29,
      "outputs": [
        {
          "output_type": "stream",
          "name": "stdout",
          "text": [
            "CLASSIFICATION REPORT:\n",
            "\tAccuracy: 0.5010\n",
            "\tPrecision: 0.4992\n",
            "\tRecall: 0.5010\n",
            "\tF1_Score: 0.4974\n"
          ]
        }
      ]
    },
    {
      "cell_type": "markdown",
      "source": [
        "We are not convinced with this model and we will not go further in our research on it. So, see you in part 3 where it will be more serious!"
      ],
      "metadata": {
        "id": "tz_eY4goghVu"
      }
    }
  ]
}