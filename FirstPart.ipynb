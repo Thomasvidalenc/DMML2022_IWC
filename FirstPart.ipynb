{
  "nbformat": 4,
  "nbformat_minor": 0,
  "metadata": {
    "colab": {
      "provenance": [],
      "authorship_tag": "ABX9TyP4/5iymvu3eT5P5OiegBze",
      "include_colab_link": true
    },
    "kernelspec": {
      "name": "python3",
      "display_name": "Python 3"
    },
    "language_info": {
      "name": "python"
    }
  },
  "cells": [
    {
      "cell_type": "markdown",
      "metadata": {
        "id": "view-in-github",
        "colab_type": "text"
      },
      "source": [
        "<a href=\"https://colab.research.google.com/github/Thomasvidalenc/DMML2022_IWC/blob/main/FirstPart.ipynb\" target=\"_parent\"><img src=\"https://colab.research.google.com/assets/colab-badge.svg\" alt=\"Open In Colab\"/></a>"
      ]
    },
    {
      "cell_type": "code",
      "execution_count": null,
      "metadata": {
        "id": "FPlbB9Dxpl15"
      },
      "outputs": [],
      "source": []
    },
    {
      "cell_type": "markdown",
      "source": [
        "##Welcome into the first part of our project!\n",
        "\n",
        "\n",
        "\n",
        "\n",
        "\n",
        "\n",
        "\n"
      ],
      "metadata": {
        "id": "h-Huag4d80jf"
      }
    },
    {
      "cell_type": "markdown",
      "source": [
        "Before to start, we have to install and prepare the environment of work"
      ],
      "metadata": {
        "id": "t_I2bEfwBA5U"
      }
    },
    {
      "cell_type": "code",
      "source": [
        "from google.colab import drive\n",
        "drive.mount('/content/drive', force_remount=True)"
      ],
      "metadata": {
        "colab": {
          "base_uri": "https://localhost:8080/"
        },
        "id": "Zcr5VSpjBMAE",
        "outputId": "3af1d35b-3fdd-4d0c-8d9d-3fc59d9996d1"
      },
      "execution_count": 1,
      "outputs": [
        {
          "output_type": "stream",
          "name": "stdout",
          "text": [
            "Mounted at /content/drive\n"
          ]
        }
      ]
    },
    {
      "cell_type": "code",
      "source": [
        "%%capture\n",
        "! pip install kaggle"
      ],
      "metadata": {
        "id": "vEg5XbRSBRXt"
      },
      "execution_count": 2,
      "outputs": []
    },
    {
      "cell_type": "code",
      "source": [
        "!mkdir ~/.kaggle"
      ],
      "metadata": {
        "id": "dqHCtSs0BTrW"
      },
      "execution_count": 3,
      "outputs": []
    },
    {
      "cell_type": "code",
      "source": [
        "!cp /content/drive/MyDrive/kaggle.json ~/.kaggle/kaggle.json"
      ],
      "metadata": {
        "id": "Zp0GugZ1BWMX"
      },
      "execution_count": 4,
      "outputs": []
    },
    {
      "cell_type": "code",
      "source": [
        "!mkdir data"
      ],
      "metadata": {
        "id": "6i0mj_tABYyM"
      },
      "execution_count": 5,
      "outputs": []
    },
    {
      "cell_type": "code",
      "source": [
        "%%capture\n",
        "! kaggle competitions download -c detecting-french-texts-difficulty-level-2022"
      ],
      "metadata": {
        "id": "mmuvk1-UBa22"
      },
      "execution_count": 6,
      "outputs": []
    },
    {
      "cell_type": "code",
      "source": [
        "%%capture\n",
        "!unzip \"detecting-french-texts-difficulty-level-2022.zip\" -d data"
      ],
      "metadata": {
        "id": "Gl70ufE3Bc04"
      },
      "execution_count": 7,
      "outputs": []
    },
    {
      "cell_type": "code",
      "source": [
        "%%capture\n",
        "!pip install -U spacy\n",
        "# Download the French language model\n",
        "!python -m spacy download fr"
      ],
      "metadata": {
        "id": "LUbcA7KfCP5s"
      },
      "execution_count": 8,
      "outputs": []
    },
    {
      "cell_type": "code",
      "source": [
        "import numpy as np\n",
        "import matplotlib.pyplot as plt\n",
        "import pandas as pd \n",
        "from sklearn.linear_model import LogisticRegression, LogisticRegressionCV\n",
        "from sklearn.model_selection import train_test_split\n",
        "from sklearn.metrics import confusion_matrix, accuracy_score, precision_score, recall_score, f1_score\n",
        "import spacy\n",
        "from spacy import displacy\n",
        "from sklearn.feature_extraction.text import  TfidfVectorizer\n",
        "from sklearn.pipeline import Pipeline\n",
        "from sklearn.base import TransformerMixin\n",
        "import seaborn as sns\n",
        "sns.set_style(\"whitegrid\")\n",
        "from fonctionutile import *"
      ],
      "metadata": {
        "id": "tHUweVPUC8KR",
        "colab": {
          "base_uri": "https://localhost:8080/"
        },
        "outputId": "0bfef891-fe8a-45be-9a73-6fb1fa0f213a"
      },
      "execution_count": 9,
      "outputs": [
        {
          "output_type": "stream",
          "name": "stderr",
          "text": [
            "/usr/local/lib/python3.8/dist-packages/torch/cuda/__init__.py:497: UserWarning: Can't initialize NVML\n",
            "  warnings.warn(\"Can't initialize NVML\")\n"
          ]
        }
      ]
    },
    {
      "cell_type": "markdown",
      "source": [
        "Let's loads a pre-trained French language model from the spacy library."
      ],
      "metadata": {
        "id": "5RTY-Q-l7HAZ"
      }
    },
    {
      "cell_type": "code",
      "source": [
        "sp = spacy.load('fr_core_news_sm')"
      ],
      "metadata": {
        "id": "auzI7WkjC_UB"
      },
      "execution_count": 10,
      "outputs": []
    },
    {
      "cell_type": "markdown",
      "source": [
        "We can now upload our data from Kaggle"
      ],
      "metadata": {
        "id": "WtNneMsk6xzJ"
      }
    },
    {
      "cell_type": "code",
      "source": [
        "df_training = pd.read_csv('/content/data/training_data.csv')\n",
        "df_test = pd.read_csv('/content/data/unlabelled_test_data.csv')\n",
        "df_sample = pd.read_csv('/content/data/sample_submission.csv')"
      ],
      "metadata": {
        "id": "_LdqyIJdBpva"
      },
      "execution_count": 11,
      "outputs": []
    },
    {
      "cell_type": "markdown",
      "source": [
        "First, let's take a look to the baseline of our training set"
      ],
      "metadata": {
        "id": "N1KHtKWe8uw2"
      }
    },
    {
      "cell_type": "code",
      "source": [
        "base_rate = df_training['difficulty'].value_counts().max() / len(df_training['difficulty'])\n",
        "base_rate #result must be better than that"
      ],
      "metadata": {
        "colab": {
          "base_uri": "https://localhost:8080/"
        },
        "id": "s1Qha4_qqm4X",
        "outputId": "a3550f5f-e62f-463a-ef4d-a89762a929ab"
      },
      "execution_count": 12,
      "outputs": [
        {
          "output_type": "execute_result",
          "data": {
            "text/plain": [
              "0.169375"
            ]
          },
          "metadata": {},
          "execution_count": 12
        }
      ]
    },
    {
      "cell_type": "markdown",
      "source": [
        "We define our X and our Y"
      ],
      "metadata": {
        "id": "_n2kKsLaIa1p"
      }
    },
    {
      "cell_type": "code",
      "source": [
        "X = df_training['sentence']\n",
        "y = df_training['difficulty']"
      ],
      "metadata": {
        "id": "sNn5pEKErIgb"
      },
      "execution_count": 13,
      "outputs": []
    },
    {
      "cell_type": "markdown",
      "source": [
        "We define our vectorizer"
      ],
      "metadata": {
        "id": "9hF6nY7b6FWh"
      }
    },
    {
      "cell_type": "code",
      "source": [
        "tfidf_vector = TfidfVectorizer()"
      ],
      "metadata": {
        "id": "Psez3GVXrQKP"
      },
      "execution_count": 14,
      "outputs": []
    },
    {
      "cell_type": "markdown",
      "source": [
        "We set 80% of train data and let 20% for the test set"
      ],
      "metadata": {
        "id": "ggFTssoh6Inj"
      }
    },
    {
      "cell_type": "code",
      "source": [
        "X_train, X_test, y_train, y_test = train_test_split(X, y, random_state=0, test_size=0.2)"
      ],
      "metadata": {
        "id": "oBSfVd-DrSCd"
      },
      "execution_count": 15,
      "outputs": []
    },
    {
      "cell_type": "markdown",
      "source": [
        "#4.2. Logistic Regression (without data cleaning)\n",
        "\n",
        "Train a simple logistic regression model using a Tfidf vectoriser."
      ],
      "metadata": {
        "id": "UZxyWNA8rVPe"
      }
    },
    {
      "cell_type": "code",
      "source": [
        "# Tfidf gives the rare term high weight and gives the common term low weight\n",
        "classifier = LogisticRegression()\n",
        "\n",
        "# Create pipeline\n",
        "## The purpose of the pipeline is to assemble several steps that can be cross-validated together while setting different parameters.\n",
        "pipe = Pipeline([('vectorizer', tfidf_vector),\n",
        "                 ('classifier', classifier)])\n",
        "\n",
        "# Fit model on training set\n",
        "pipe.fit(X_train, y_train)"
      ],
      "metadata": {
        "colab": {
          "base_uri": "https://localhost:8080/"
        },
        "id": "hFXko9vgrWeu",
        "outputId": "7d2ba9c2-606c-4ff0-a3cb-df807a71688e"
      },
      "execution_count": 16,
      "outputs": [
        {
          "output_type": "execute_result",
          "data": {
            "text/plain": [
              "Pipeline(steps=[('vectorizer', TfidfVectorizer()),\n",
              "                ('classifier', LogisticRegression())])"
            ]
          },
          "metadata": {},
          "execution_count": 16
        }
      ]
    },
    {
      "cell_type": "markdown",
      "source": [
        "Show the accuracy, precision, recall and F1 score on the test set."
      ],
      "metadata": {
        "id": "lxFA4PjhDjB1"
      }
    },
    {
      "cell_type": "code",
      "source": [
        "prediction = Prediction(pipe, X_test)\n",
        "Evaluate(y_test, prediction)"
      ],
      "metadata": {
        "colab": {
          "base_uri": "https://localhost:8080/"
        },
        "id": "dd5UyaOjrZcY",
        "outputId": "ec185325-bf0b-47b0-a381-b2cf2449a11f"
      },
      "execution_count": 17,
      "outputs": [
        {
          "output_type": "stream",
          "name": "stdout",
          "text": [
            "CLASSIFICATION REPORT:\n",
            "\tAccuracy: 0.4667\n",
            "\tPrecision: 0.4656\n",
            "\tRecall: 0.4667\n",
            "\tF1_Score: 0.4640\n"
          ]
        }
      ]
    },
    {
      "cell_type": "markdown",
      "source": [
        "Let's plot a confusion matrix"
      ],
      "metadata": {
        "id": "8HQmTBsatBJg"
      }
    },
    {
      "cell_type": "code",
      "source": [
        "Accuracy_conf_mat(y_test, prediction)"
      ],
      "metadata": {
        "id": "lXuv5Pg6s9Ql",
        "colab": {
          "base_uri": "https://localhost:8080/",
          "height": 606
        },
        "outputId": "35838ad4-bc37-45be-b7f8-485769d9183b"
      },
      "execution_count": 18,
      "outputs": [
        {
          "output_type": "display_data",
          "data": {
            "text/plain": [
              "<Figure size 720x720 with 2 Axes>"
            ],
            "image/png": "[encoded data removed]"
          },
          "metadata": {}
        }
      ]
    },
    {
      "cell_type": "markdown",
      "source": [
        "Now, we can take observe some examples of sentences that are not correctly classified"
      ],
      "metadata": {
        "id": "mJUYzIIOtNm_"
      }
    },
    {
      "cell_type": "code",
      "source": [
        "Sentences_badly_classified(0,5, X_test,prediction, y_test)"
      ],
      "metadata": {
        "id": "_SXTVnqHtMq5",
        "colab": {
          "base_uri": "https://localhost:8080/"
        },
        "outputId": "619abd6f-826a-48dc-eec8-a63ae0db735c"
      },
      "execution_count": 19,
      "outputs": [
        {
          "output_type": "stream",
          "name": "stdout",
          "text": [
            "(\"C'est en décembre 1967, après bien des invectives au Parlement, que sa loi relative à la régulation des naissances, dite loi Neuwirth est votée : elle autorise la vente exclusive des contraceptifs en pharmacie sur ordonnance médicale, avec autorisation parentale pour les mineures\", 'has been classified as ', 'C2', 'and should be ', 'C1')\n",
            "('Giscard va pourtant réussir à transformer ce revers en tremplin', 'has been classified as ', 'B2', 'and should be ', 'C1')\n",
            "(\"Un choix difficile mais important : le public français écoute souvent les professionnels de Cannes pour choisir le film qu'il va aller voir au cinéma.\", 'has been classified as ', 'B1', 'and should be ', 'A2')\n",
            "(\"Le débat porte plutôt sur l'utilité d'une telle mesure.\", 'has been classified as ', 'C1', 'and should be ', 'B1')\n"
          ]
        }
      ]
    },
    {
      "cell_type": "markdown",
      "source": [
        "We can make our first predicition on the unlabelled data"
      ],
      "metadata": {
        "id": "sCuUB_JTzvMU"
      }
    },
    {
      "cell_type": "code",
      "source": [
        "prediction = Prediction(pipe, df_test['sentence'])"
      ],
      "metadata": {
        "id": "IlQox2v_zuah"
      },
      "execution_count": 20,
      "outputs": []
    },
    {
      "cell_type": "markdown",
      "source": [
        "We take the opportunity to make our first csv file for the Kaggle submission"
      ],
      "metadata": {
        "id": "gmgDqquo5Rfy"
      }
    },
    {
      "cell_type": "code",
      "source": [
        "submission = submission(df_test['id'], prediction)\n",
        "submission.to_csv('premiertestkaggle.csv', header=True, index=False)"
      ],
      "metadata": {
        "id": "ldItKZmCndsk"
      },
      "execution_count": 21,
      "outputs": []
    },
    {
      "cell_type": "markdown",
      "source": [
        "#4.3. KNN (without data cleaning)\n",
        "Train a KNN classification model using a Tfidf vectoriser. \n"
      ],
      "metadata": {
        "id": "eZ7QUGJ50nT3"
      }
    },
    {
      "cell_type": "code",
      "source": [
        "from sklearn.neighbors import KNeighborsClassifier"
      ],
      "metadata": {
        "id": "rdBUmmwpHoUF"
      },
      "execution_count": 22,
      "outputs": []
    },
    {
      "cell_type": "code",
      "source": [
        "knn = KNeighborsClassifier()\n",
        "pipe_knn = Pipeline([('vectorizer', tfidf_vector),\n",
        "                 ('classifier', knn)])\n",
        "\n",
        "# Fit model on training set\n",
        "pipe_knn.fit(X_train, y_train)"
      ],
      "metadata": {
        "id": "r2svRWUSz-Fc",
        "colab": {
          "base_uri": "https://localhost:8080/"
        },
        "outputId": "0fe0a247-5341-428b-87cb-8f497834cee5"
      },
      "execution_count": 23,
      "outputs": [
        {
          "output_type": "execute_result",
          "data": {
            "text/plain": [
              "Pipeline(steps=[('vectorizer', TfidfVectorizer()),\n",
              "                ('classifier', KNeighborsClassifier())])"
            ]
          },
          "metadata": {},
          "execution_count": 23
        }
      ]
    },
    {
      "cell_type": "markdown",
      "source": [
        "Show the accuracy, precision, recall and F1 score on the test set."
      ],
      "metadata": {
        "id": "KV615n0ADeqo"
      }
    },
    {
      "cell_type": "code",
      "source": [
        "prediction = Prediction(pipe_knn, X_test)\n",
        "Evaluate(y_test, prediction)"
      ],
      "metadata": {
        "id": "eovm1VRG1nMp",
        "colab": {
          "base_uri": "https://localhost:8080/"
        },
        "outputId": "c2dee279-1be9-4a92-854c-79a0c4e92d93"
      },
      "execution_count": 24,
      "outputs": [
        {
          "output_type": "stream",
          "name": "stdout",
          "text": [
            "CLASSIFICATION REPORT:\n",
            "\tAccuracy: 0.3187\n",
            "\tPrecision: 0.4030\n",
            "\tRecall: 0.3187\n",
            "\tF1_Score: 0.3022\n"
          ]
        }
      ]
    },
    {
      "cell_type": "markdown",
      "source": [
        "Try to improve it by tuning the hyper parameters(n_neighbors, p, weights) with a GridSearchCV."
      ],
      "metadata": {
        "id": "268ygj1b10Op"
      }
    },
    {
      "cell_type": "code",
      "source": [
        "from sklearn.model_selection import GridSearchCV\n",
        "\n",
        "knn_grid = {'n_neighbors' : np.arange(start=1, stop=10, step=1),\n",
        "            'p': np.arange(1,3),\n",
        "            'weights' : ['uniform', 'distance']}\n",
        "knn_cv = GridSearchCV(knn, knn_grid, cv = 5)\n",
        "pipe_grid_knn = Pipeline([('vectorizer', tfidf_vector), ('knn_cv', knn_cv)])\n",
        "\n",
        "pipe_grid_knn.fit(X_train, y_train)\n",
        "print('Best hyperparameters:', knn_cv.best_params_)"
      ],
      "metadata": {
        "id": "dfxBsTcj3KCL",
        "colab": {
          "base_uri": "https://localhost:8080/"
        },
        "outputId": "6f086671-4d82-4d6b-da33-c04f8813b3a2"
      },
      "execution_count": 25,
      "outputs": [
        {
          "output_type": "stream",
          "name": "stdout",
          "text": [
            "Best hyperparameters: {'n_neighbors': 4, 'p': 2, 'weights': 'distance'}\n"
          ]
        }
      ]
    },
    {
      "cell_type": "markdown",
      "source": [
        "We have found the best Knn model with these parameter. We can try it!"
      ],
      "metadata": {
        "id": "9VfU1NTX3NS5"
      }
    },
    {
      "cell_type": "code",
      "source": [
        "knn2 = KNeighborsClassifier(n_neighbors=4, p = 2, weights = 'distance')\n",
        "pipe_knn_2 = Pipeline([('vectorizer', tfidf_vector),\n",
        "                 ('classifier', knn2)])\n",
        "pipe_knn_2.fit(X_train, y_train)"
      ],
      "metadata": {
        "id": "zfvyD4eC3MqW",
        "colab": {
          "base_uri": "https://localhost:8080/"
        },
        "outputId": "02030658-fc6d-4437-ace0-39eefa982969"
      },
      "execution_count": 26,
      "outputs": [
        {
          "output_type": "execute_result",
          "data": {
            "text/plain": [
              "Pipeline(steps=[('vectorizer', TfidfVectorizer()),\n",
              "                ('classifier',\n",
              "                 KNeighborsClassifier(n_neighbors=4, weights='distance'))])"
            ]
          },
          "metadata": {},
          "execution_count": 26
        }
      ]
    },
    {
      "cell_type": "markdown",
      "source": [
        "Show the accuracy, precision, recall and F1 score on the test set."
      ],
      "metadata": {
        "id": "b3tbrfQCDccG"
      }
    },
    {
      "cell_type": "code",
      "source": [
        "prediction = Prediction(pipe_knn_2 , X_test)\n",
        "Evaluate(y_test,prediction)"
      ],
      "metadata": {
        "id": "XMMrM-8h3ubQ",
        "colab": {
          "base_uri": "https://localhost:8080/"
        },
        "outputId": "9b79010a-5c84-401a-8194-61cce934f2e1"
      },
      "execution_count": 27,
      "outputs": [
        {
          "output_type": "stream",
          "name": "stdout",
          "text": [
            "CLASSIFICATION REPORT:\n",
            "\tAccuracy: 0.3677\n",
            "\tPrecision: 0.4242\n",
            "\tRecall: 0.3677\n",
            "\tF1_Score: 0.3571\n"
          ]
        }
      ]
    },
    {
      "cell_type": "markdown",
      "source": [
        "#4.4. Decision Tree Classifier (without data cleaning)\n",
        "Train a Decison Tree classifier, using a Tfidf vectoriser."
      ],
      "metadata": {
        "id": "i9rUDk1Z4Hup"
      }
    },
    {
      "cell_type": "code",
      "source": [
        "from sklearn.tree import DecisionTreeClassifier"
      ],
      "metadata": {
        "id": "nt4wEFBZH6_Y"
      },
      "execution_count": 28,
      "outputs": []
    },
    {
      "cell_type": "code",
      "source": [
        "#Choose random state of 0 arbitrarly to don't have fluctuations in my values\n",
        "dec = DecisionTreeClassifier(random_state = 0)\n",
        "pipe_dec = Pipeline([('vectorizer', tfidf_vector),\n",
        "                 ('classifier', dec)])\n",
        "# Fit model on training set\n",
        "pipe_dec.fit(X_train, y_train)"
      ],
      "metadata": {
        "id": "9_-gwvNm4JZn",
        "colab": {
          "base_uri": "https://localhost:8080/"
        },
        "outputId": "6803d89c-8c54-4127-c6ab-9635f7f62a49"
      },
      "execution_count": 29,
      "outputs": [
        {
          "output_type": "execute_result",
          "data": {
            "text/plain": [
              "Pipeline(steps=[('vectorizer', TfidfVectorizer()),\n",
              "                ('classifier', DecisionTreeClassifier(random_state=0))])"
            ]
          },
          "metadata": {},
          "execution_count": 29
        }
      ]
    },
    {
      "cell_type": "markdown",
      "source": [
        "Show the accuracy, precision, recall and F1 score on the test set."
      ],
      "metadata": {
        "id": "z356RzVlDahd"
      }
    },
    {
      "cell_type": "code",
      "source": [
        "prediction = Prediction(pipe_dec, X_test)\n",
        "Evaluate(y_test, prediction)"
      ],
      "metadata": {
        "id": "3vu820k74Nn-",
        "colab": {
          "base_uri": "https://localhost:8080/"
        },
        "outputId": "7116e88a-43fa-4693-979a-7743067637ad"
      },
      "execution_count": 30,
      "outputs": [
        {
          "output_type": "stream",
          "name": "stdout",
          "text": [
            "CLASSIFICATION REPORT:\n",
            "\tAccuracy: 0.2969\n",
            "\tPrecision: 0.3004\n",
            "\tRecall: 0.2969\n",
            "\tF1_Score: 0.2952\n"
          ]
        }
      ]
    },
    {
      "cell_type": "markdown",
      "source": [
        "Try to improve it by tuning the hyper parameters (max_depth, the depth of the decision tree)."
      ],
      "metadata": {
        "id": "htk0mBKo4YJL"
      }
    },
    {
      "cell_type": "code",
      "source": [
        "dec_grid = {'max_depth': np.arange(5,25, 1)}\n",
        "\n",
        "dec_CV = GridSearchCV(dec, dec_grid , cv = 5)\n",
        "\n",
        "pipe_grid_dec = Pipeline([('vectorizer', TfidfVectorizer()), ('dec', dec_CV)])\n",
        "\n",
        "pipe_grid_dec.fit(X_train, y_train)\n",
        "pred = pipe_grid_dec.predict(X_test)\n",
        "\n",
        "print(\"Hyperparameters:\", dec_CV.best_params_)"
      ],
      "metadata": {
        "id": "2G6hX8ZD6Ma-",
        "colab": {
          "base_uri": "https://localhost:8080/"
        },
        "outputId": "31a2b50a-35d1-4737-efa4-add5873da5e7"
      },
      "execution_count": 31,
      "outputs": [
        {
          "output_type": "stream",
          "name": "stdout",
          "text": [
            "Hyperparameters: {'max_depth': 16}\n"
          ]
        }
      ]
    },
    {
      "cell_type": "markdown",
      "source": [
        "We have found the best DecisionTreeClassifier model with these parameters. We can try it!"
      ],
      "metadata": {
        "id": "m37WruMJ7MWz"
      }
    },
    {
      "cell_type": "code",
      "source": [
        "dec2 = DecisionTreeClassifier(max_depth=16, random_state = 0)\n",
        "\n",
        "pipe_dec_2= Pipeline([('vectorizer', tfidf_vector),\n",
        "                 ('classifier', dec2)])\n",
        "# Fit model on training set\n",
        "pipe_dec_2.fit(X_train, y_train)"
      ],
      "metadata": {
        "id": "A5smzz757JLO",
        "colab": {
          "base_uri": "https://localhost:8080/"
        },
        "outputId": "2fb55c67-8670-479e-f648-4cfed3585621"
      },
      "execution_count": 32,
      "outputs": [
        {
          "output_type": "execute_result",
          "data": {
            "text/plain": [
              "Pipeline(steps=[('vectorizer', TfidfVectorizer()),\n",
              "                ('classifier',\n",
              "                 DecisionTreeClassifier(max_depth=16, random_state=0))])"
            ]
          },
          "metadata": {},
          "execution_count": 32
        }
      ]
    },
    {
      "cell_type": "markdown",
      "source": [
        "Show the accuracy, precision, recall and F1 score on the test set."
      ],
      "metadata": {
        "id": "qGxFtO_fDSux"
      }
    },
    {
      "cell_type": "code",
      "source": [
        "prediction = Prediction(pipe_dec_2, X_test)\n",
        "Evaluate(y_test, prediction)"
      ],
      "metadata": {
        "id": "97JoQzan7exM",
        "colab": {
          "base_uri": "https://localhost:8080/"
        },
        "outputId": "94ee186e-7d4b-47d2-8c84-1229d967ef83"
      },
      "execution_count": 33,
      "outputs": [
        {
          "output_type": "stream",
          "name": "stdout",
          "text": [
            "CLASSIFICATION REPORT:\n",
            "\tAccuracy: 0.3156\n",
            "\tPrecision: 0.3158\n",
            "\tRecall: 0.3156\n",
            "\tF1_Score: 0.3008\n"
          ]
        }
      ]
    },
    {
      "cell_type": "markdown",
      "source": [
        "#4.5. Random Forest Classifier (without data cleaning)\n",
        "\n",
        "Try a Random Forest Classifier, using a Tfidf vectoriser."
      ],
      "metadata": {
        "id": "fNw5rsbJ7sc6"
      }
    },
    {
      "cell_type": "code",
      "source": [
        "from sklearn.ensemble import RandomForestClassifier"
      ],
      "metadata": {
        "id": "bAZDSK2bIKY1"
      },
      "execution_count": 34,
      "outputs": []
    },
    {
      "cell_type": "code",
      "source": [
        "Rdc = RandomForestClassifier()\n",
        "\n",
        "pipe_RDC = Pipeline([('vectorizer', tfidf_vector),\n",
        "                 ('classifier', Rdc)])\n",
        "\n",
        "# Fit model on training set\n",
        "pipe_RDC.fit(X_train, y_train)"
      ],
      "metadata": {
        "id": "HzorCcIE7w3A",
        "colab": {
          "base_uri": "https://localhost:8080/"
        },
        "outputId": "0f14ee37-2040-4948-edfe-5d9a2a73d1d2"
      },
      "execution_count": 35,
      "outputs": [
        {
          "output_type": "execute_result",
          "data": {
            "text/plain": [
              "Pipeline(steps=[('vectorizer', TfidfVectorizer()),\n",
              "                ('classifier', RandomForestClassifier())])"
            ]
          },
          "metadata": {},
          "execution_count": 35
        }
      ]
    },
    {
      "cell_type": "markdown",
      "source": [
        "Show the accuracy, precision, recall and F1 score on the test set."
      ],
      "metadata": {
        "id": "EXR1RxBaDRQl"
      }
    },
    {
      "cell_type": "code",
      "source": [
        "prediction = Prediction(pipe_dec_2, X_test)\n",
        "Evaluate(y_test, prediction)"
      ],
      "metadata": {
        "id": "qm0EHTeI8ShR",
        "colab": {
          "base_uri": "https://localhost:8080/"
        },
        "outputId": "908fafa2-addc-4b85-b441-3190a1a27604"
      },
      "execution_count": 36,
      "outputs": [
        {
          "output_type": "stream",
          "name": "stdout",
          "text": [
            "CLASSIFICATION REPORT:\n",
            "\tAccuracy: 0.3156\n",
            "\tPrecision: 0.3158\n",
            "\tRecall: 0.3156\n",
            "\tF1_Score: 0.3008\n"
          ]
        }
      ]
    }
  ]
}